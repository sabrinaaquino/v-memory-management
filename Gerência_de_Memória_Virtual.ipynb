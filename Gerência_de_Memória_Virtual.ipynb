{
  "nbformat": 4,
  "nbformat_minor": 0,
  "metadata": {
    "colab": {
      "provenance": []
    },
    "kernelspec": {
      "name": "python3",
      "display_name": "Python 3"
    },
    "language_info": {
      "name": "python"
    }
  },
  "cells": [
    {
      "cell_type": "markdown",
      "source": [
        "## Algoritmo de Gerência de Memória Virtual"
      ],
      "metadata": {
        "id": "JylVDF-7myET"
      }
    },
    {
      "cell_type": "markdown",
      "source": [
        "Exercício para a Terceira Nota Gerência de Memória Virtual \n",
        "Disciplina: DCA0108 – Sistemas Operacionais \n",
        "Turma: 01, 2022.2 Horário: 24M12, setor 4, sala I2 \n",
        "Aluna: Sabrina Ellen de Souza Aquino"
      ],
      "metadata": {
        "id": "GjtdqZo1r87G"
      }
    },
    {
      "cell_type": "markdown",
      "source": [
        "Considere que a listagem a seguir é uma string de referências a páginas de um determinado processo \n",
        "\n",
        "1, 2, 3, 4, 2, 1, 5, 6, 2, 1, 2, 3, 7, 6, 3, 2, 1, 2, 6 \n",
        "\n",
        "Quantas falhas de página ocorreriam para os seguintes algoritmos de substituição, considerando três, quatro, cinco, seis e sete quadros? Considere que todos os quadros estão inicialmente vazios, de modo que suas primeiras páginas exclusivas causarão uma falha cada. \n",
        "• Substituição LRU; \n",
        "• Substituição FIFO; e \n",
        "• Substituição ótima.\n"
      ],
      "metadata": {
        "id": "h9RDbyBapgza"
      }
    },
    {
      "cell_type": "markdown",
      "source": [
        "A gerência de memória virtual é um mecanismo que permite que um processo tenha acesso a uma quantidade de memória maior do que a disponível fisicamente na máquina. Isso é feito através da paginação, onde a memória é dividida em blocos chamados páginas e cada processo tem a sua própria tabela de páginas, que mapeia as páginas virtuais do processo para páginas físicas na memória. Quando um processo tenta acessar uma página que não está presente na memória física, ocorre uma falha de página e a página é carregada da memória secundária, como o disco rígido, para a memória principal.\n",
        "\n",
        "Os algoritmos de substituição de páginas são utilizados para decidir qual página deve ser substituída quando ocorre uma falha de página e a memória principal está cheia. Existem vários algoritmos diferentes, cada um com suas próprias vantagens e desvantagens.\n"
      ],
      "metadata": {
        "id": "rjeqUk8IrEow"
      }
    },
    {
      "cell_type": "markdown",
      "source": [
        "A seguir, é mostrado a implementação dos algoritmos de substituição de páginas."
      ],
      "metadata": {
        "id": "s5GCw-YkrM6f"
      }
    },
    {
      "cell_type": "markdown",
      "source": [
        "#Importação das bibliotecas"
      ],
      "metadata": {
        "id": "GFLzZgjlrT5s"
      }
    },
    {
      "cell_type": "code",
      "execution_count": 1,
      "metadata": {
        "id": "JBBh4TL1mwEG"
      },
      "outputs": [],
      "source": [
        "import numpy as np \n",
        "import threading \n",
        "import time"
      ]
    },
    {
      "cell_type": "markdown",
      "source": [
        "#Algoritmo FIFO"
      ],
      "metadata": {
        "id": "-Dik_0_8qMZK"
      }
    },
    {
      "cell_type": "code",
      "source": [
        "def fifo_page_faults(n_frames, references):\n",
        "    # Inicializa a contagem de falhas de página\n",
        "    faults = 0\n",
        "    # Cria uma lista de quadros com o mesmo número de elementos que o número de quadros,\n",
        "    # preenchendo cada elemento com o valor \"infinito\" (para que as primeiras páginas\n",
        "    # exclusivas causem uma falha cada)\n",
        "    frames = [float(\"inf\") for _ in range(n_frames)]\n",
        "    # Inicializa o índice de inserção de novas páginas na lista de quadros\n",
        "    insert_index = 0\n",
        "\n",
        "    # Para cada referência de página na lista\n",
        "    for reference in references:\n",
        "        # Verifique se a página está presente na lista de quadros\n",
        "        if reference not in frames:\n",
        "            # Se não estiver, adicione a página à lista de quadros e conte uma falha de página\n",
        "            faults += 1\n",
        "            # Substitui a próxima página na lista de quadros pelo novo elemento\n",
        "            frames[insert_index] = reference\n",
        "            # Incrementa o índice de inserção, começando novamente pelo início da lista\n",
        "            # caso o índice atual exceda o tamanho da lista\n",
        "            insert_index = (insert_index + 1) % n_frames\n",
        "    # Retorna a contagem de falhas de página\n",
        "    return faults"
      ],
      "metadata": {
        "id": "HEmQR3y7o9ro"
      },
      "execution_count": 8,
      "outputs": []
    },
    {
      "cell_type": "markdown",
      "source": [
        "#Algoritmo LRU"
      ],
      "metadata": {
        "id": "-Ks5xzCDqJRU"
      }
    },
    {
      "cell_type": "code",
      "source": [
        "def lru_page_faults(n_frames, references):\n",
        "    # Inicializa a contagem de falhas de página\n",
        "    faults = 0\n",
        "    # Cria uma lista de quadros vazia\n",
        "    frames = []\n",
        "\n",
        "    # Para cada referência de página na lista\n",
        "    for reference in references:\n",
        "        # Verifique se a página está presente na lista de quadros\n",
        "        if reference not in frames:\n",
        "            # Se não estiver, adicione a página à lista de quadros e conte uma falha de página\n",
        "            faults += 1\n",
        "            # Se a lista de quadros estiver cheia, remova o primeiro elemento da lista\n",
        "            if len(frames) == n_frames:\n",
        "                frames.pop(0)\n",
        "            # Adiciona a nova página no final da lista\n",
        "            frames.append(reference)\n",
        "        # Se a página já estiver na lista de quadros, remova-a e adicione-a no final novamente\n",
        "        else:\n",
        "            frames.remove(reference)\n",
        "            frames.append(reference)\n",
        "    # Retorna a contagem de falhas de página\n",
        "    return faults"
      ],
      "metadata": {
        "id": "QG6zLLmrpVhH"
      },
      "execution_count": 9,
      "outputs": []
    },
    {
      "cell_type": "markdown",
      "source": [
        "#Algoritmo Ótimo"
      ],
      "metadata": {
        "id": "I4C_DvzEqRoq"
      }
    },
    {
      "cell_type": "code",
      "source": [
        "def optimal_page_faults(n_frames, references):\n",
        "  # Cria uma lista de quadros vazia\n",
        "  frames = []\n",
        "  # Inicializa a contagem de falhas de página\n",
        "  faults = 0\n",
        "  # Inicializa a lista de ocorrências futuras das páginas presentes nos quadros\n",
        "  future_occurrences = [None for _ in range(n_frames)]\n",
        "\n",
        "  # Para cada referência de página na lista\n",
        "  for i, reference in enumerate(references):\n",
        "      # Verifique se a página está presente na lista de quadros\n",
        "      if reference not in frames:\n",
        "          # Se não estiver, adicione a página à lista de quadros e conte uma falha de página\n",
        "          faults += 1\n",
        "          # Se a lista de quadros estiver cheia, remova a página que não é mais utilizada (ótimo)\n",
        "          if len(frames) == n_frames:\n",
        "              # Encontra a próxima ocorrência de cada página presente na lista de quadros\n",
        "              for x in range(n_frames):\n",
        "                  if frames[x] not in references[i+1:]:\n",
        "                      future_occurrences[x] = float(\"inf\")\n",
        "                  else:\n",
        "                      future_occurrences[x] = references[i+1:].index(frames[x])\n",
        "              # Remove a página que não é mais utilizada (a que tem a próxima ocorrência mais distante)\n",
        "              frames.pop(future_occurrences.index(max(future_occurrences)))\n",
        "          # Adiciona a página à lista de quadros\n",
        "          frames.append(reference)\n",
        "  # Retorna a contagem de falhas de página\n",
        "  return faults"
      ],
      "metadata": {
        "id": "msOuV9d-pUKs"
      },
      "execution_count": 10,
      "outputs": []
    },
    {
      "cell_type": "markdown",
      "source": [
        "#Resolução:"
      ],
      "metadata": {
        "id": "bPH_RlRbrXOS"
      }
    },
    {
      "cell_type": "code",
      "source": [
        "for x in range(5):\n",
        "  n_quadros = 3+x\n",
        "  print(\"Para \", 3+x ,\" quadros: \")\n",
        "  ref = [1, 2, 3, 4, 2, 1, 5, 6, 2, 1, 2, 3, 7, 6, 3, 2, 1, 2, 6]\n",
        "  faults = fifo_page_faults(n_quadros, ref)\n",
        "  print(\"Algoritmo FIFO: \", faults)\n",
        "  faults = lru_page_faults(n_quadros, ref)\n",
        "  print(\"Algoritmo LRU: \",faults)\n",
        "  faults = optimal_page_faults(n_quadros, ref)\n",
        "  print(\"Algoritmo Ótimo: \", faults,\"\\n\")\n"
      ],
      "metadata": {
        "colab": {
          "base_uri": "https://localhost:8080/"
        },
        "id": "ZOHcXJU0pARK",
        "outputId": "4b45aeee-4780-4606-f0c1-3e21d55532cd"
      },
      "execution_count": 24,
      "outputs": [
        {
          "output_type": "stream",
          "name": "stdout",
          "text": [
            "Para  3  quadros: \n",
            "Algoritmo FIFO:  14\n",
            "Algoritmo LRU:  15\n",
            "Algoritmo Ótimo:  10 \n",
            "\n",
            "Para  4  quadros: \n",
            "Algoritmo FIFO:  13\n",
            "Algoritmo LRU:  10\n",
            "Algoritmo Ótimo:  8 \n",
            "\n",
            "Para  5  quadros: \n",
            "Algoritmo FIFO:  10\n",
            "Algoritmo LRU:  8\n",
            "Algoritmo Ótimo:  7 \n",
            "\n",
            "Para  6  quadros: \n",
            "Algoritmo FIFO:  9\n",
            "Algoritmo LRU:  7\n",
            "Algoritmo Ótimo:  7 \n",
            "\n",
            "Para  7  quadros: \n",
            "Algoritmo FIFO:  7\n",
            "Algoritmo LRU:  7\n",
            "Algoritmo Ótimo:  7 \n",
            "\n"
          ]
        }
      ]
    }
  ]
}